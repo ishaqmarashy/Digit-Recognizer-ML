{
  "nbformat": 4,
  "nbformat_minor": 0,
  "metadata": {
    "colab": {
      "provenance": [],
      "include_colab_link": true
    },
    "kernelspec": {
      "name": "python3",
      "display_name": "Python 3"
    },
    "language_info": {
      "name": "python"
    }
  },
  "cells": [
    {
      "cell_type": "markdown",
      "metadata": {
        "id": "view-in-github",
        "colab_type": "text"
      },
      "source": [
        "<a href=\"https://colab.research.google.com/github/ishaqmarashy/Digit-Recognizer-ML/blob/main/Digit_Recognizer.ipynb\" target=\"_parent\"><img src=\"https://colab.research.google.com/assets/colab-badge.svg\" alt=\"Open In Colab\"/></a>"
      ]
    },
    {
      "cell_type": "code",
      "execution_count": 64,
      "metadata": {
        "id": "C1aZL2iT4UIU"
      },
      "outputs": [],
      "source": [
        "# Common imports\n",
        "import sklearn\n",
        "import pandas as pd\n",
        "import numpy as np\n",
        "import tensorflow as tf\n",
        "\n",
        "# Plotting\n",
        "%matplotlib inline\n",
        "import matplotlib as mpl\n",
        "import matplotlib.pyplot as plt"
      ]
    },
    {
      "cell_type": "code",
      "source": [
        "train = pd.read_csv( \"./train.csv\")\n",
        "test = pd.read_csv(\"./test.csv\")"
      ],
      "metadata": {
        "id": "5shLl_V7vtx-"
      },
      "execution_count": 65,
      "outputs": []
    },
    {
      "cell_type": "code",
      "source": [
        "print(train.info(),train.columns,\"\\n\",train['label'].value_counts(),\"\\n\",train['pixel0']) "
      ],
      "metadata": {
        "id": "qiFspa3ESDpK",
        "colab": {
          "base_uri": "https://localhost:8080/"
        },
        "outputId": "8de4d057-30e6-4057-947e-d5e34e7d68be"
      },
      "execution_count": 66,
      "outputs": [
        {
          "output_type": "stream",
          "name": "stdout",
          "text": [
            "<class 'pandas.core.frame.DataFrame'>\n",
            "RangeIndex: 42000 entries, 0 to 41999\n",
            "Columns: 785 entries, label to pixel783\n",
            "dtypes: int64(785)\n",
            "memory usage: 251.5 MB\n",
            "None Index(['label', 'pixel0', 'pixel1', 'pixel2', 'pixel3', 'pixel4', 'pixel5',\n",
            "       'pixel6', 'pixel7', 'pixel8',\n",
            "       ...\n",
            "       'pixel774', 'pixel775', 'pixel776', 'pixel777', 'pixel778', 'pixel779',\n",
            "       'pixel780', 'pixel781', 'pixel782', 'pixel783'],\n",
            "      dtype='object', length=785) \n",
            " 1    4684\n",
            "7    4401\n",
            "3    4351\n",
            "9    4188\n",
            "2    4177\n",
            "6    4137\n",
            "0    4132\n",
            "4    4072\n",
            "8    4063\n",
            "5    3795\n",
            "Name: label, dtype: int64 \n",
            " 0        0\n",
            "1        0\n",
            "2        0\n",
            "3        0\n",
            "4        0\n",
            "        ..\n",
            "41995    0\n",
            "41996    0\n",
            "41997    0\n",
            "41998    0\n",
            "41999    0\n",
            "Name: pixel0, Length: 42000, dtype: int64\n"
          ]
        }
      ]
    },
    {
      "cell_type": "code",
      "source": [
        "from keras.utils.np_utils import to_categorical \n",
        "\n",
        "y_train = to_categorical(train['label'], num_classes = 10)\n",
        "X_train = train.drop('label',axis=1)\n",
        "X_train = X_train.values.reshape(-1,28,28,1)\n",
        "test = test.values.reshape(-1,28,28,1)\n",
        "plt.imshow(X_train[0][:,:,0])"
      ],
      "metadata": {
        "colab": {
          "base_uri": "https://localhost:8080/",
          "height": 448
        },
        "id": "s7JGETqsVVGD",
        "outputId": "86acce98-0b90-47ce-cbe2-2ee85213c2ea"
      },
      "execution_count": 67,
      "outputs": [
        {
          "output_type": "execute_result",
          "data": {
            "text/plain": [
              "<matplotlib.image.AxesImage at 0x1ec3b83bf40>"
            ]
          },
          "metadata": {},
          "execution_count": 67
        },
        {
          "output_type": "display_data",
          "data": {
            "text/plain": [
              "<Figure size 640x480 with 1 Axes>"
            ],
            "image/png": "[encoded data removed]"
          },
          "metadata": {}
        }
      ]
    },
    {
      "cell_type": "code",
      "source": [
        "mu = X_train.mean().astype(np.float32)\n",
        "std = X_train.std().astype(np.float32)\n",
        "X_train=(X_train-mu)/std\n",
        "test=(test-mu)/std"
      ],
      "metadata": {
        "id": "NBIAwsWH9y1H"
      },
      "execution_count": 68,
      "outputs": []
    },
    {
      "cell_type": "code",
      "source": [
        "from sklearn.model_selection import train_test_split\n",
        "\n",
        "X = X_train\n",
        "y = y_train\n",
        "X_train, X_val, y_train, y_val = train_test_split(X_train, y_train, test_size=0.30, random_state=42)"
      ],
      "metadata": {
        "id": "TuPIj_nFJS8X"
      },
      "execution_count": 69,
      "outputs": []
    },
    {
      "cell_type": "code",
      "source": [
        "from keras.models import Sequential\n",
        "from keras.layers import Dense, Dropout, Flatten, Conv2D, MaxPool2D, BatchNormalization\n",
        "from keras.optimizers import Adam\n",
        "model = Sequential([\n",
        "        Conv2D(32,(3,3), activation='relu',input_shape=(28,28,1)),\n",
        "        BatchNormalization(),\n",
        "        Conv2D(32,(6,6), activation='relu'),\n",
        "        MaxPool2D(),\n",
        "        Flatten(),\n",
        "        Dense(512, activation='relu'),\n",
        "        Dense(10, activation='softmax')\n",
        "        ])\n",
        "model.compile(Adam(), loss='categorical_crossentropy',metrics=['accuracy'])"
      ],
      "metadata": {
        "id": "6sEKhSsQWx3K"
      },
      "execution_count": 70,
      "outputs": []
    },
    {
      "cell_type": "code",
      "source": [
        "from keras.preprocessing.image import ImageDataGenerator\n",
        "\n",
        "datagen = ImageDataGenerator(\n",
        "    featurewise_center=True,\n",
        "    samplewise_center=False, \n",
        "    featurewise_std_normalization=False,\n",
        "    samplewise_std_normalization=False,\n",
        "    zca_whitening=False,\n",
        "    rotation_range=20,\n",
        "    width_shift_range=0.1,\n",
        "    height_shift_range=0.1,\n",
        "    horizontal_flip=False,  \n",
        "    vertical_flip=False)\n",
        "datagen.fit(X_train)\n",
        "\n",
        "epochs=29\n",
        "batch_size = 64\n",
        "\n",
        "train_data=datagen.flow(X_train,y_train, batch_size=batch_size)\n",
        "validation_data=datagen.flow(X_train, y_train, batch_size=8)\n",
        "histcb=model.fit(train_data, validation_data=validation_data,verbose = 2,steps_per_epoch=len(X_train) / batch_size, epochs=epochs)"
      ],
      "metadata": {
        "colab": {
          "base_uri": "https://localhost:8080/"
        },
        "id": "YEcA7htHGngj",
        "outputId": "7aff8a59-178f-477e-bf94-54992765ffc8"
      },
      "execution_count": 71,
      "outputs": [
        {
          "output_type": "stream",
          "name": "stdout",
          "text": [
            "Epoch 1/30\n",
            "459/459 - 52s - loss: 0.4071 - accuracy: 0.8769 - val_loss: 0.1866 - val_accuracy: 0.9520 - 52s/epoch - 114ms/step\n",
            "Epoch 2/30\n",
            "459/459 - 47s - loss: 0.1273 - accuracy: 0.9600 - val_loss: 0.1001 - val_accuracy: 0.9686 - 47s/epoch - 103ms/step\n",
            "Epoch 3/30\n",
            "459/459 - 45s - loss: 0.0991 - accuracy: 0.9688 - val_loss: 0.0780 - val_accuracy: 0.9754 - 45s/epoch - 99ms/step\n",
            "Epoch 4/30\n",
            "459/459 - 46s - loss: 0.0785 - accuracy: 0.9746 - val_loss: 0.0628 - val_accuracy: 0.9805 - 46s/epoch - 99ms/step\n",
            "Epoch 5/30\n",
            "459/459 - 45s - loss: 0.0726 - accuracy: 0.9772 - val_loss: 0.0834 - val_accuracy: 0.9745 - 45s/epoch - 97ms/step\n",
            "Epoch 6/30\n",
            "459/459 - 45s - loss: 0.0678 - accuracy: 0.9785 - val_loss: 0.0706 - val_accuracy: 0.9780 - 45s/epoch - 97ms/step\n",
            "Epoch 7/30\n",
            "459/459 - 45s - loss: 0.0652 - accuracy: 0.9803 - val_loss: 0.0560 - val_accuracy: 0.9826 - 45s/epoch - 97ms/step\n",
            "Epoch 8/30\n",
            "459/459 - 45s - loss: 0.0584 - accuracy: 0.9810 - val_loss: 0.0552 - val_accuracy: 0.9819 - 45s/epoch - 98ms/step\n",
            "Epoch 9/30\n",
            "459/459 - 45s - loss: 0.0556 - accuracy: 0.9824 - val_loss: 0.0551 - val_accuracy: 0.9824 - 45s/epoch - 97ms/step\n",
            "Epoch 10/30\n",
            "459/459 - 45s - loss: 0.0532 - accuracy: 0.9838 - val_loss: 0.0881 - val_accuracy: 0.9720 - 45s/epoch - 99ms/step\n",
            "Epoch 11/30\n",
            "459/459 - 46s - loss: 0.0475 - accuracy: 0.9860 - val_loss: 0.0432 - val_accuracy: 0.9862 - 46s/epoch - 99ms/step\n",
            "Epoch 12/30\n",
            "459/459 - 45s - loss: 0.0474 - accuracy: 0.9853 - val_loss: 0.0416 - val_accuracy: 0.9868 - 45s/epoch - 99ms/step\n",
            "Epoch 13/30\n",
            "459/459 - 44s - loss: 0.0479 - accuracy: 0.9849 - val_loss: 0.0430 - val_accuracy: 0.9866 - 44s/epoch - 95ms/step\n",
            "Epoch 14/30\n",
            "459/459 - 45s - loss: 0.0471 - accuracy: 0.9857 - val_loss: 0.0424 - val_accuracy: 0.9871 - 45s/epoch - 97ms/step\n",
            "Epoch 15/30\n",
            "459/459 - 44s - loss: 0.0428 - accuracy: 0.9877 - val_loss: 0.0390 - val_accuracy: 0.9884 - 44s/epoch - 97ms/step\n",
            "Epoch 16/30\n",
            "459/459 - 44s - loss: 0.0446 - accuracy: 0.9863 - val_loss: 0.0397 - val_accuracy: 0.9878 - 44s/epoch - 96ms/step\n",
            "Epoch 17/30\n",
            "459/459 - 45s - loss: 0.0425 - accuracy: 0.9872 - val_loss: 0.0452 - val_accuracy: 0.9863 - 45s/epoch - 99ms/step\n",
            "Epoch 18/30\n",
            "459/459 - 45s - loss: 0.0390 - accuracy: 0.9882 - val_loss: 0.0520 - val_accuracy: 0.9832 - 45s/epoch - 98ms/step\n",
            "Epoch 19/30\n",
            "459/459 - 47s - loss: 0.0399 - accuracy: 0.9879 - val_loss: 0.0369 - val_accuracy: 0.9890 - 47s/epoch - 102ms/step\n",
            "Epoch 20/30\n",
            "459/459 - 45s - loss: 0.0380 - accuracy: 0.9882 - val_loss: 0.0358 - val_accuracy: 0.9894 - 45s/epoch - 98ms/step\n",
            "Epoch 21/30\n",
            "459/459 - 45s - loss: 0.0390 - accuracy: 0.9884 - val_loss: 0.0442 - val_accuracy: 0.9872 - 45s/epoch - 98ms/step\n",
            "Epoch 22/30\n",
            "459/459 - 46s - loss: 0.0372 - accuracy: 0.9884 - val_loss: 0.0324 - val_accuracy: 0.9893 - 46s/epoch - 101ms/step\n",
            "Epoch 23/30\n",
            "459/459 - 47s - loss: 0.0354 - accuracy: 0.9895 - val_loss: 0.0280 - val_accuracy: 0.9910 - 47s/epoch - 102ms/step\n",
            "Epoch 24/30\n",
            "459/459 - 48s - loss: 0.0363 - accuracy: 0.9888 - val_loss: 0.0288 - val_accuracy: 0.9911 - 48s/epoch - 105ms/step\n",
            "Epoch 25/30\n",
            "459/459 - 46s - loss: 0.0357 - accuracy: 0.9891 - val_loss: 0.0307 - val_accuracy: 0.9908 - 46s/epoch - 100ms/step\n",
            "Epoch 26/30\n",
            "459/459 - 45s - loss: 0.0335 - accuracy: 0.9908 - val_loss: 0.0299 - val_accuracy: 0.9914 - 45s/epoch - 98ms/step\n",
            "Epoch 27/30\n",
            "459/459 - 46s - loss: 0.0340 - accuracy: 0.9902 - val_loss: 0.0258 - val_accuracy: 0.9912 - 46s/epoch - 100ms/step\n",
            "Epoch 28/30\n",
            "459/459 - 50s - loss: 0.0334 - accuracy: 0.9905 - val_loss: 0.0325 - val_accuracy: 0.9901 - 50s/epoch - 109ms/step\n",
            "Epoch 29/30\n",
            "459/459 - 48s - loss: 0.0304 - accuracy: 0.9912 - val_loss: 0.0262 - val_accuracy: 0.9920 - 48s/epoch - 105ms/step\n",
            "Epoch 30/30\n",
            "459/459 - 46s - loss: 0.0296 - accuracy: 0.9912 - val_loss: 0.0295 - val_accuracy: 0.9905 - 46s/epoch - 101ms/step\n"
          ]
        }
      ]
    },
    {
      "cell_type": "code",
      "source": [
        "y_pred=model.predict( X_train, batch_size=batch_size, verbose=0)\n",
        "y_pred=np.argmax(y_pred,axis = 1) \n",
        "y_pred"
      ],
      "metadata": {
        "colab": {
          "base_uri": "https://localhost:8080/"
        },
        "id": "-XOWqzycNDok",
        "outputId": "3ef21e8c-6e87-4521-ae68-7144a2eef5bf"
      },
      "execution_count": 72,
      "outputs": [
        {
          "output_type": "execute_result",
          "data": {
            "text/plain": [
              "array([4, 0, 9, ..., 2, 6, 0], dtype=int64)"
            ]
          },
          "metadata": {},
          "execution_count": 72
        }
      ]
    }
  ]
}