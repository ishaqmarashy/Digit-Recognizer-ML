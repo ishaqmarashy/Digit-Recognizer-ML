{
  "nbformat": 4,
  "nbformat_minor": 0,
  "metadata": {
    "colab": {
      "provenance": [],
      "include_colab_link": true
    },
    "kernelspec": {
      "name": "python3",
      "display_name": "Python 3"
    },
    "language_info": {
      "name": "python"
    }
  },
  "cells": [
    {
      "cell_type": "markdown",
      "metadata": {
        "id": "view-in-github",
        "colab_type": "text"
      },
      "source": [
        "<a href=\"https://colab.research.google.com/github/ishaqmarashy/Digit-Recognizer-ML/blob/main/Digit_Recognizer.ipynb\" target=\"_parent\"><img src=\"https://colab.research.google.com/assets/colab-badge.svg\" alt=\"Open In Colab\"/></a>"
      ]
    },
    {
      "cell_type": "code",
      "execution_count": null,
      "metadata": {
        "id": "C1aZL2iT4UIU"
      },
      "outputs": [],
      "source": [
        "# Common imports\n",
        "import sklearn\n",
        "import pandas as pd\n",
        "import numpy as np\n",
        "import tensorflow as tf\n",
        "\n",
        "# Plotting\n",
        "%matplotlib inline\n",
        "import matplotlib as mpl\n",
        "import matplotlib.pyplot as plt"
      ]
    },
    {
      "cell_type": "code",
      "source": [
        "tf.config.list_physical_devices('GPU') "
      ],
      "metadata": {
        "colab": {
          "base_uri": "https://localhost:8080/"
        },
        "id": "Sk6SqwnP6itf",
        "outputId": "9e96b365-21ad-4112-b092-8f5d72cdb855"
      },
      "execution_count": null,
      "outputs": [
        {
          "output_type": "execute_result",
          "data": {
            "text/plain": [
              "[]"
            ]
          },
          "metadata": {},
          "execution_count": 60
        }
      ]
    },
    {
      "cell_type": "code",
      "source": [
        "train = pd.read_csv( \"./train.csv\")\n",
        "test = pd.read_csv(\"./test.csv\")"
      ],
      "metadata": {
        "id": "5shLl_V7vtx-"
      },
      "execution_count": null,
      "outputs": []
    },
    {
      "cell_type": "code",
      "source": [
        "print(train.info(),train.columns,\"\\n\",train['label'].value_counts(),\"\\n\",train['pixel0']) "
      ],
      "metadata": {
        "id": "qiFspa3ESDpK",
        "colab": {
          "base_uri": "https://localhost:8080/"
        },
        "outputId": "4ae12f75-9ca9-46dd-b4f6-89164541a39d"
      },
      "execution_count": null,
      "outputs": [
        {
          "output_type": "stream",
          "name": "stdout",
          "text": [
            "<class 'pandas.core.frame.DataFrame'>\n",
            "RangeIndex: 42000 entries, 0 to 41999\n",
            "Columns: 785 entries, label to pixel783\n",
            "dtypes: int64(785)\n",
            "memory usage: 251.5 MB\n",
            "None Index(['label', 'pixel0', 'pixel1', 'pixel2', 'pixel3', 'pixel4', 'pixel5',\n",
            "       'pixel6', 'pixel7', 'pixel8',\n",
            "       ...\n",
            "       'pixel774', 'pixel775', 'pixel776', 'pixel777', 'pixel778', 'pixel779',\n",
            "       'pixel780', 'pixel781', 'pixel782', 'pixel783'],\n",
            "      dtype='object', length=785) \n",
            " 1    4684\n",
            "7    4401\n",
            "3    4351\n",
            "9    4188\n",
            "2    4177\n",
            "6    4137\n",
            "0    4132\n",
            "4    4072\n",
            "8    4063\n",
            "5    3795\n",
            "Name: label, dtype: int64 \n",
            " 0        0\n",
            "1        0\n",
            "2        0\n",
            "3        0\n",
            "4        0\n",
            "        ..\n",
            "41995    0\n",
            "41996    0\n",
            "41997    0\n",
            "41998    0\n",
            "41999    0\n",
            "Name: pixel0, Length: 42000, dtype: int64\n"
          ]
        }
      ]
    },
    {
      "cell_type": "code",
      "source": [
        "from keras.utils.np_utils import to_categorical \n",
        "\n",
        "y_train = to_categorical(train['label'], num_classes = 10)\n",
        "X_train = train.drop('label',axis=1)\n",
        "X_train = X_train.values.reshape(-1,28,28,1)\n",
        "test = test.values.reshape(-1,28,28,1)\n",
        "plt.imshow(X_train[0][:,:,0])"
      ],
      "metadata": {
        "colab": {
          "base_uri": "https://localhost:8080/",
          "height": 448
        },
        "id": "s7JGETqsVVGD",
        "outputId": "4fc3f2fa-c87d-4605-8f69-3fa23c558959"
      },
      "execution_count": null,
      "outputs": [
        {
          "output_type": "execute_result",
          "data": {
            "text/plain": [
              "<matplotlib.image.AxesImage at 0x1ec1df75270>"
            ]
          },
          "metadata": {},
          "execution_count": 48
        },
        {
          "output_type": "display_data",
          "data": {
            "text/plain": [
              "<Figure size 640x480 with 1 Axes>"
            ],
            "image/png": "[encoded data removed]"
          },
          "metadata": {}
        }
      ]
    },
    {
      "cell_type": "code",
      "source": [
        "mu = X_train.mean().astype(np.float32)\n",
        "std = X_train.std().astype(np.float32)\n",
        "X_train=(X_train-mu)/std\n",
        "test=(test-mu)/std"
      ],
      "metadata": {
        "id": "NBIAwsWH9y1H"
      },
      "execution_count": null,
      "outputs": []
    },
    {
      "cell_type": "code",
      "source": [
        "from sklearn.model_selection import train_test_split\n",
        "\n",
        "X = X_train\n",
        "y = y_train\n",
        "X_train, X_val, y_train, y_val = train_test_split(X_train, y_train, test_size=0.30, random_state=42)"
      ],
      "metadata": {
        "id": "TuPIj_nFJS8X"
      },
      "execution_count": null,
      "outputs": []
    },
    {
      "cell_type": "code",
      "source": [
        "from keras.models import Sequential\n",
        "from keras.layers import Dense, Dropout, Flatten, Conv2D, MaxPool2D, BatchNormalization\n",
        "from keras.optimizers import Adam\n",
        "model = Sequential([\n",
        "        Conv2D(32,(3,3), activation='relu',input_shape=(28,28,1)),\n",
        "        BatchNormalization(),\n",
        "        Conv2D(32,(6,6), activation='relu'),\n",
        "        MaxPool2D(),\n",
        "        Flatten(),\n",
        "        Dense(512, activation='relu'),\n",
        "        Dense(10, activation='softmax')\n",
        "        ])\n",
        "model.compile(Adam(), loss='categorical_crossentropy',metrics=['accuracy'])"
      ],
      "metadata": {
        "id": "6sEKhSsQWx3K"
      },
      "execution_count": null,
      "outputs": []
    },
    {
      "cell_type": "code",
      "source": [
        "tf.config.list_physical_devices('GPU')"
      ],
      "metadata": {
        "colab": {
          "base_uri": "https://localhost:8080/"
        },
        "id": "8HYg49t7QrbR",
        "outputId": "10f4cd0d-f775-4063-89c6-6bf40de8e847"
      },
      "execution_count": null,
      "outputs": [
        {
          "output_type": "execute_result",
          "data": {
            "text/plain": [
              "[]"
            ]
          },
          "metadata": {},
          "execution_count": 52
        }
      ]
    },
    {
      "cell_type": "code",
      "source": [
        "from keras.preprocessing.image import ImageDataGenerator\n",
        "\n",
        "datagen = ImageDataGenerator(\n",
        "    featurewise_center=True,\n",
        "    samplewise_center=False, \n",
        "    featurewise_std_normalization=False,\n",
        "    samplewise_std_normalization=False,\n",
        "    zca_whitening=False,\n",
        "    rotation_range=20,\n",
        "    width_shift_range=0.1,\n",
        "    height_shift_range=0.1,\n",
        "    horizontal_flip=False,  \n",
        "    vertical_flip=False)\n",
        "datagen.fit(X_train)\n",
        "\n",
        "epochs=30\n",
        "batch_size = 64\n",
        "\n",
        "train_data=datagen.flow(X_train,y_train, batch_size=batch_size)\n",
        "validation_data=datagen.flow(X_train, y_train, batch_size=8)\n",
        "histcb=model.fit(train_data, validation_data=validation_data,verbose = 2,steps_per_epoch=len(X_train) / batch_size, epochs=epochs)"
      ],
      "metadata": {
        "colab": {
          "base_uri": "https://localhost:8080/"
        },
        "id": "YEcA7htHGngj",
        "outputId": "7d2ed5cb-4062-42ab-9565-d241eaeb18c9"
      },
      "execution_count": null,
      "outputs": [
        {
          "output_type": "stream",
          "name": "stdout",
          "text": [
            "459/459 - 49s - loss: 0.1016 - accuracy: 0.9688 - val_loss: 0.0762 - val_accuracy: 0.9759 - 49s/epoch - 106ms/step\n"
          ]
        }
      ]
    },
    {
      "cell_type": "code",
      "source": [
        "fig, ax = plt.subplots(2,1)\n",
        "ax[0].plot(histcb.history['loss'], color='b', label=\"Training loss\")\n",
        "ax[0].plot(histcb.history['val_loss'], color='r', label=\"validation loss\",axes =ax[0])\n",
        "legend = ax[0].legend(loc='best', shadow=True)\n",
        "\n",
        "ax[1].plot(histcb.history['accuracy'], color='b', label=\"Training accuracy\")\n",
        "ax[1].plot(histcb.history['val_accuracy'], color='r',label=\"Validation accuracy\")\n",
        "legend = ax[1].legend(loc='best', shadow=True)"
      ],
      "metadata": {
        "id": "DWeiLMNG1CF6",
        "colab": {
          "base_uri": "https://localhost:8080/",
          "height": 430
        },
        "outputId": "9e086d3d-cd92-4812-9321-176498b71c51"
      },
      "execution_count": null,
      "outputs": [
        {
          "output_type": "display_data",
          "data": {
            "text/plain": [
              "<Figure size 640x480 with 2 Axes>"
            ],
            "image/png": "[encoded data removed]"
          },
          "metadata": {}
        }
      ]
    },
    {
      "cell_type": "code",
      "source": [
        "y_pred=model.predict( X_train, batch_size=batch_size, verbose=0)\n",
        "y_pred=np.argmax(y_pred,axis = 1) \n",
        "y_pred"
      ],
      "metadata": {
        "colab": {
          "base_uri": "https://localhost:8080/"
        },
        "id": "-XOWqzycNDok",
        "outputId": "3a3d0fab-f6d4-424c-a59a-e2edbbd51cb1"
      },
      "execution_count": null,
      "outputs": [
        {
          "output_type": "execute_result",
          "data": {
            "text/plain": [
              "array([4, 0, 9, ..., 2, 6, 0], dtype=int64)"
            ]
          },
          "metadata": {},
          "execution_count": 62
        }
      ]
    }
  ]
}